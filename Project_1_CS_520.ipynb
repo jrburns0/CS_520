{
 "cells": [
  {
   "cell_type": "markdown",
   "metadata": {},
   "source": [
    "# Project 1: Fire Extinguisher\n",
    "\n",
    "James Burns & Remington Katz\n",
    "\n",
    "CS 520"
   ]
  },
  {
   "cell_type": "code",
   "execution_count": 78,
   "metadata": {},
   "outputs": [],
   "source": [
    "import random\n",
    "import copy"
   ]
  },
  {
   "cell_type": "markdown",
   "metadata": {},
   "source": [
    "### 1 The Ship"
   ]
  },
  {
   "cell_type": "code",
   "execution_count": 79,
   "metadata": {},
   "outputs": [],
   "source": [
    "class ship():\n",
    "    def __init__(self, d):\n",
    "        self.dim = d\n",
    "        self.ship_display = [['■' for i in range(d)] for j in range(d)] #■ for blocked i.e. not open\n",
    "        self.start = ()\n",
    "\n",
    "        #Choose a square in the interior to open at random\n",
    "        y = random.randint(1, d-2)\n",
    "        x = random.randint(1, d-2)\n",
    "        self.ship_display[y][x] = 'O' #O for open\n",
    "        #The board display can be imagined as Quadrant IV of a cartesian coordinate system, where the origin is in the top left and you read a coordinate as y spaces down and x spaces to the right\n",
    "        #Iteratively do the following... (from assignment)\n",
    "        while True:\n",
    "            one_open_neighbor = list()\n",
    "            for row in range(d):\n",
    "                for col in range(d):\n",
    "                    if self.ship_display[row][col] == '■':\n",
    "                        open_neighbor_count = 0\n",
    "                        if (row+1 <= d-1) and (self.ship_display[row+1][col] == 'O'):\n",
    "                            open_neighbor_count += 1\n",
    "                        if (row-1 >= 0) and (self.ship_display[row-1][col] == 'O'):\n",
    "                            open_neighbor_count += 1\n",
    "                        if (col+1 <= d-1) and (self.ship_display[row][col+1] == 'O'):\n",
    "                            open_neighbor_count += 1\n",
    "                        if (col-1 >= 0) and (self.ship_display[row][col-1] == 'O'):\n",
    "                            open_neighbor_count += 1\n",
    "                        if open_neighbor_count == 1:\n",
    "                            one_open_neighbor.append((row,col))\n",
    "            if len(one_open_neighbor) == 0:\n",
    "                break\n",
    "            random_neighbor = random.sample(one_open_neighbor, 1)[0]\n",
    "            self.ship_display[random_neighbor[0]][random_neighbor[1]] = 'O'\n",
    "        #ship.print_ship(self)\n",
    "        \n",
    "        #Open dead ends; pick random closed neighbor and open it\n",
    "        dead_ends_list = list()\n",
    "        for row in range(d):\n",
    "            for col in range(d):\n",
    "                if self.ship_display[row][col] == 'O':\n",
    "                    open_neighbor_count = 0\n",
    "                    if (row+1 <= d-1) and (self.ship_display[row+1][col] == 'O'):\n",
    "                        open_neighbor_count += 1\n",
    "                    if (row-1 >= 0) and (self.ship_display[row-1][col] == 'O'):\n",
    "                        open_neighbor_count += 1\n",
    "                    if (col+1 <= d-1) and (self.ship_display[row][col+1] == 'O'):\n",
    "                        open_neighbor_count += 1\n",
    "                    if (col-1 >= 0) and (self.ship_display[row][col-1] == 'O'):\n",
    "                        open_neighbor_count += 1\n",
    "                    if open_neighbor_count == 1:\n",
    "                        dead_ends_list.append((row,col))\n",
    "        half = len(dead_ends_list)//2\n",
    "        dead_ends = random.sample(dead_ends_list, half)\n",
    "        #print(dead_ends_list)\n",
    "        #print(dead_ends)\n",
    "        for dead_end in dead_ends:\n",
    "            dead_end_blocked_neighbor = list()\n",
    "            if (dead_end[0]+1 <= d-1) and (self.ship_display[dead_end[0]+1][dead_end[1]] == '■'):\n",
    "                dead_end_blocked_neighbor.append((dead_end[0]+1, dead_end[1]))\n",
    "            if (dead_end[0]-1 >= 0) and (self.ship_display[dead_end[0]-1][dead_end[1]] == '■'):\n",
    "                dead_end_blocked_neighbor.append((dead_end[0]-1, dead_end[1]))\n",
    "            if (dead_end[1]+1 <= d-1) and (self.ship_display[dead_end[0]][dead_end[1]+1] == '■'):\n",
    "                dead_end_blocked_neighbor.append((dead_end[0], dead_end[1]+1))\n",
    "            if (dead_end[1]-1 >= 0) and (self.ship_display[dead_end[0]][dead_end[1]-1] == '■'):\n",
    "                dead_end_blocked_neighbor.append((dead_end[0], dead_end[1]-1))\n",
    "            #print(dead_end_blocked_neighbor)\n",
    "            if dead_end_blocked_neighbor != []: #Make sure block neighbor was not previosuly removed\n",
    "                random_blocked_neighbor = random.sample(dead_end_blocked_neighbor, 1)[0]\n",
    "                self.ship_display[random_blocked_neighbor[0]][random_blocked_neighbor[1]] = 'O'\n",
    "        \n",
    "        self.open_ship = copy.deepcopy(self.ship_display) #Keep a copy of the original ship to see which cells are opened/blocked\n",
    "    \n",
    "    #Print a 2D array representing the ship in a way that makes it appear as a maze to a human. \n",
    "    #This version specifically only shows the original open and blocked cells when the maze is generated.\n",
    "    def print_open_ship(self):\n",
    "        for row in self.open_ship:\n",
    "            formatted_row = [\"{:1}\".format(x) for x in row]\n",
    "            print(\" \".join(formatted_row))\n",
    "\n",
    "    def flatten(self, row, col):\n",
    "\t    return row*self.dim + col\n",
    "\n"
   ]
  },
  {
   "cell_type": "code",
   "execution_count": 80,
   "metadata": {},
   "outputs": [],
   "source": [
    "#Print a 2D array representing the ship in a way that makes it appear as a maze to a human.\n",
    "#To be used for the ship display at specific times\n",
    "def print_ship(ship):\n",
    "    for row in ship.ship_display:\n",
    "        formatted_row = [\"{:1}\".format(x) for x in row]\n",
    "        print(\" \".join(formatted_row))"
   ]
  },
  {
   "cell_type": "code",
   "execution_count": 81,
   "metadata": {},
   "outputs": [
    {
     "name": "stdout",
     "output_type": "stream",
     "text": [
      "■ O O O ■ ■ O O O O\n",
      "O O O O O ■ O O ■ O\n",
      "O ■ ■ O ■ O ■ O O O\n",
      "O O O O O O O ■ O ■\n",
      "■ ■ ■ ■ O ■ O ■ O ■\n",
      "■ O O O O O ■ O O O\n",
      "O O ■ O ■ O O O ■ O\n",
      "O ■ O O O ■ O O O O\n",
      "O O O O O ■ O O ■ O\n",
      "O O ■ O O O ■ O O O\n",
      "\n",
      "■ O O O ■ ■ O O O O\n",
      "O O O O O ■ O O ■ O\n",
      "O ■ ■ O ■ O ■ O O O\n",
      "O O O O O O O ■ O ■\n",
      "■ ■ ■ ■ O ■ O ■ O ■\n",
      "■ O O O O O ■ O O O\n",
      "O O ■ O ■ O O O ■ O\n",
      "O ■ O O O ■ O O O O\n",
      "O O O O O ■ O O ■ O\n",
      "O O ■ O O O ■ O O O\n"
     ]
    }
   ],
   "source": [
    "#An example of the ship and it being printed two ways\n",
    "ship_1 = ship(10)\n",
    "ship_1.print_open_ship()\n",
    "print()\n",
    "print_ship(ship_1)"
   ]
  },
  {
   "cell_type": "markdown",
   "metadata": {},
   "source": [
    "### 2,3,4 The Bot, The Fire, The Button"
   ]
  },
  {
   "cell_type": "code",
   "execution_count": 82,
   "metadata": {},
   "outputs": [],
   "source": [
    "#Compute probability a cell catches fire\n",
    "def prob_catching_fire(q, K):\n",
    "    return 1 - (1-q)**K\n",
    "\n",
    "#Place elements such as the fire starting position or the bot on the ship\n",
    "def place_element(ship, element):\n",
    "    random_cell_state = None\n",
    "    while random_cell_state != 'O':\n",
    "        row = random.randint(0, ship.dim-1)\n",
    "        col = random.randint(0, ship.dim-1)\n",
    "        if ship.open_ship[row][col] == 'O':\n",
    "            ship.ship_display[row][col] = element\n",
    "            random_cell_state = 'O'\n",
    "            if element == 'B':\n",
    "                ship.start = (row,col)\n",
    "    return ship"
   ]
  },
  {
   "cell_type": "code",
   "execution_count": 83,
   "metadata": {},
   "outputs": [],
   "source": [
    "ship_1 = place_element(ship_1, 'F')"
   ]
  },
  {
   "cell_type": "code",
   "execution_count": 84,
   "metadata": {},
   "outputs": [],
   "source": [
    "#A function that takes some number of times to spread the fire, an already created ship object, and some flammability q\n",
    "#Spreads the fire on the ship timestep many times and returns the updated ship\n",
    "def spread_fire(timestep, ship, q):\n",
    "    for t in range(timestep):\n",
    "        ship_copy = copy.deepcopy(ship)\n",
    "        for row in range(ship.dim):\n",
    "            for col in range(ship.dim):\n",
    "                if (ship.open_ship[row][col] == 'O') and (ship.ship_display[row][col] != 'F'):\n",
    "                    neighbors_on_fire = 0\n",
    "                    if (row+1 <= ship.dim-1) and (ship.ship_display[row+1][col] == 'F'):\n",
    "                        neighbors_on_fire += 1\n",
    "                    if (row-1 >= 0) and (ship.ship_display[row-1][col] == 'F'):\n",
    "                        neighbors_on_fire += 1\n",
    "                    if (col+1 <= ship.dim-1) and (ship.ship_display[row][col+1] == 'F'):\n",
    "                        neighbors_on_fire += 1\n",
    "                    if (col-1 >= 0) and (ship.ship_display[row][col-1] == 'F'):\n",
    "                        neighbors_on_fire += 1\n",
    "                    if random.uniform(0, 1) < prob_catching_fire(q, neighbors_on_fire):\n",
    "                        ship_copy.ship_display[row][col] = 'F'\n",
    "        ship = ship_copy\n",
    "        # print_ship(ship)\n",
    "        # print()\n",
    "\n",
    "    return ship"
   ]
  },
  {
   "cell_type": "code",
   "execution_count": 85,
   "metadata": {},
   "outputs": [
    {
     "name": "stdout",
     "output_type": "stream",
     "text": [
      "■ O O O ■ ■ O O O O\n",
      "O O O O O ■ O O ■ O\n",
      "O ■ ■ F ■ F ■ O O O\n",
      "O O F F F F F ■ O ■\n",
      "■ ■ ■ ■ O ■ F ■ O ■\n",
      "■ O O O O O ■ O O O\n",
      "O O ■ O ■ O O O ■ O\n",
      "O ■ O O O ■ O O O O\n",
      "O O O O O ■ O O ■ O\n",
      "O O ■ O O O ■ O O O\n"
     ]
    }
   ],
   "source": [
    "#An exmaple of the fire spreading on a ship\n",
    "ship_1 = spread_fire(10, ship_1, 0.5)\n",
    "print_ship(ship_1)"
   ]
  },
  {
   "cell_type": "markdown",
   "metadata": {},
   "source": [
    "### 5 The Task"
   ]
  },
  {
   "cell_type": "code",
   "execution_count": 86,
   "metadata": {},
   "outputs": [],
   "source": [
    "def bot1(ship):\n",
    "\tneighbors = []\n",
    "\tvisited = set()\n",
    "\tprev = dict()\n",
    "\tneighbors.append(ship.start)\n",
    "\tvisited.add(ship.start)\n",
    "\tprev[ship.start] = None\n",
    "\tboard = ship.ship_display\n",
    "\tfound = False\n",
    "\twhile(True):\n",
    "\t\tif not neighbors:\n",
    "\t\t\tbreak\n",
    "\t\trow, col = neighbors.pop(0)\n",
    "\t\tif(ship.ship_display[row][col] == 'G'):\n",
    "\t\t\treturn retrace(prev, (row, col))\n",
    "\t\t\tbreak\n",
    "\t\t\n",
    "\t\tif(row - 1 >= 0 and ship.ship_display[row-1][col] != '■' and ship.ship_display[row-1][col] != 'F' and (row-1, col) not in visited):\n",
    "\t\t\tneighbors.append((row-1, col))\n",
    "\t\t\tvisited.add((row-1, col))\n",
    "\t\t\tprev[(row-1, col)] = (row, col)\n",
    "\t\t\n",
    "\t\tif(row + 1 < ship.dim and ship.ship_display[row+1][col] != '■' and ship.ship_display[row+1][col] != 'F' and (row+1, col) not in visited):\n",
    "\t\t\tneighbors.append((row+1, col))\n",
    "\t\t\tvisited.add((row+1, col))\n",
    "\t\t\tprev[(row+1, col)] = (row, col)\n",
    "\n",
    "\t\tif(col-1 >= 0 and ship.ship_display[row][col-1] != '■' and ship.ship_display[row][col-1] != 'F' and (row, col-1) not in visited):\n",
    "\t\t\tneighbors.append((row, col-1))\n",
    "\t\t\tvisited.add((row, col-1))\n",
    "\t\t\tprev[(row, col-1)] = (row, col)\n",
    "\n",
    "\t\tif(col + 1 < ship.dim and ship.ship_display[row][col+1] != '■' and ship.ship_display[row][col+1] != 'F' and (row, col+1) not in visited):\n",
    "\t\t\tneighbors.append((row, col+1))\n",
    "\t\t\tvisited.add((row, col+1))\n",
    "\t\t\tprev[(row, col+1)] = (row, col)\n",
    "\n",
    "def retrace(prev, start):\n",
    "\troute = []\n",
    "\twhile(prev[start] != None):\n",
    "\t\troute.append(start)\n",
    "\t\tstart = prev[start]\n",
    "\troute.reverse()\t\n",
    "\treturn route\n"
   ]
  },
  {
   "cell_type": "code",
   "execution_count": 87,
   "metadata": {},
   "outputs": [
    {
     "name": "stdout",
     "output_type": "stream",
     "text": [
      "(9, 16)\n",
      "O O O ■ O ■ O O O ■ O O O O ■ O ■ O O O\n",
      "O ■ O O O O O ■ O ■ O ■ ■ O O O ■ O ■ O\n",
      "O O O ■ O O O ■ O ■ O O O ■ O ■ O O ■ O\n",
      "■ ■ O O O O O ■ O O ■ O ■ O O ■ O O O O\n",
      "O O O O O ■ O O ■ O O O O O ■ O O O ■ O\n",
      "O ■ O ■ O O ■ O ■ ■ ■ ■ O ■ O O O O O O\n",
      "O ■ O ■ O ■ O O O O O O O O O ■ O ■ O O\n",
      "O O O ■ O O O O O ■ O ■ O O ■ O O O ■ O\n",
      "■ O ■ O O O ■ O ■ O O ■ O O ■ O ■ O O O\n",
      "O O O ■ O ■ O O ■ O ■ O O O O O B ■ ■ O\n",
      "O O O O O O O O O O O O ■ O ■ O ■ O ■ O\n",
      "■ O ■ O ■ O G ■ O ■ ■ O ■ O ■ O O O O O\n",
      "■ O ■ O ■ O ■ O O O O O O O O O ■ ■ O O\n",
      "O O ■ ■ O O O O ■ O ■ O ■ O ■ O O O O ■\n",
      "■ O O O O ■ ■ ■ O O O ■ O O ■ O ■ ■ O O\n",
      "O ■ ■ ■ O ■ O O O O O O O O O O O O O O\n",
      "O O O O ■ O O ■ O ■ ■ O ■ O ■ ■ O O O O\n",
      "■ ■ ■ O O O ■ O O ■ ■ O F O O O O O O ■\n",
      "O O O O O O O O O O O O ■ O ■ O O ■ O O\n",
      "O O O ■ O O ■ O O ■ O ■ O O O O O O O O\n"
     ]
    },
    {
     "data": {
      "text/plain": [
       "[(9, 15),\n",
       " (9, 14),\n",
       " (9, 13),\n",
       " (9, 12),\n",
       " (9, 11),\n",
       " (10, 11),\n",
       " (10, 10),\n",
       " (10, 9),\n",
       " (10, 8),\n",
       " (10, 7),\n",
       " (10, 6),\n",
       " (11, 6)]"
      ]
     },
     "execution_count": 87,
     "metadata": {},
     "output_type": "execute_result"
    }
   ],
   "source": [
    "d = 20\n",
    "ship_2 = ship(d)\n",
    "\n",
    "place_element(ship_2,'F')\n",
    "place_element(ship_2,'B')\n",
    "place_element(ship_2,'G')\n",
    "\n",
    "print(ship_2.start)\n",
    "print_ship(ship_2)\n",
    "bot1(ship_2)"
   ]
  },
  {
   "cell_type": "markdown",
   "metadata": {},
   "source": [
    "### 6 The Strategies"
   ]
  },
  {
   "cell_type": "markdown",
   "metadata": {},
   "source": [
    "Bot 1"
   ]
  },
  {
   "cell_type": "code",
   "execution_count": 88,
   "metadata": {},
   "outputs": [
    {
     "data": {
      "text/plain": [
       "75"
      ]
     },
     "execution_count": 88,
     "metadata": {},
     "output_type": "execute_result"
    }
   ],
   "source": [
    "burnCount = 0\n",
    "runs = 100\n",
    "for k in range(runs):\n",
    "    shipTest = ship(30)\n",
    "    place_element(shipTest,'F')\n",
    "    place_element(shipTest,'B')\n",
    "    place_element(shipTest,'G')\n",
    "    route = bot1(shipTest)\n",
    "    if(not route): \n",
    "        burnCount += 1\n",
    "    else:\n",
    "        for i in range(len(route)):\n",
    "            row, col = route[i]\n",
    "            if shipTest.ship_display[row][col] == 'F':\n",
    "                burnCount += 1\n",
    "                break\n",
    "            shipTest = spread_fire(1, shipTest, 0.5)\n",
    "\n",
    "runs-burnCount"
   ]
  },
  {
   "cell_type": "markdown",
   "metadata": {},
   "source": [
    "Bot 2"
   ]
  },
  {
   "cell_type": "code",
   "execution_count": 89,
   "metadata": {},
   "outputs": [
    {
     "data": {
      "text/plain": [
       "69"
      ]
     },
     "execution_count": 89,
     "metadata": {},
     "output_type": "execute_result"
    }
   ],
   "source": [
    "burnCount = 0\n",
    "runs = 100\n",
    "for k in range(runs):\n",
    "    shipTest = ship(30)\n",
    "    place_element(shipTest,'F')\n",
    "    place_element(shipTest,'B')\n",
    "    place_element(shipTest,'G')\n",
    "    stop = False\n",
    "    while(not stop): \n",
    "        route = bot1(shipTest)\n",
    "        if(not route):\n",
    "            burnCount += 1\n",
    "            break\n",
    "        else:\n",
    "            row, col = route[0]\n",
    "            shipTest.start = (row,col)\n",
    "            if(shipTest.ship_display[row][col] == 'G'):\n",
    "                break\n",
    "            shipTest = spread_fire(1, shipTest, 0.5)\n",
    "runs-burnCount"
   ]
  },
  {
   "cell_type": "markdown",
   "metadata": {},
   "source": [
    "Bot 4"
   ]
  },
  {
   "cell_type": "code",
   "execution_count": 94,
   "metadata": {},
   "outputs": [],
   "source": [
    "#Computes the probability that squares adjacent to the fire will be on fire in one timestep\n",
    "#Computes the probability that squares two away from fire will be on fire in two timesteps\n",
    "def prob_catching_fire_next_timestep(ship, q):\n",
    "    #Keep a list of probabilities that a square will be on fire at the next timestep\n",
    "    fire_probs = [[0 for i in range(d)] for j in range(d)]\n",
    "\n",
    "    for row in range(ship.dim):\n",
    "        for col in range(ship.dim):\n",
    "            if (ship.open_ship[row][col] == 'O') and (ship.ship_display[row][col] != 'F'):\n",
    "                neighbors_on_fire = 0\n",
    "                if (row+1 <= ship.dim-1) and (ship.ship_display[row+1][col] == 'F'):\n",
    "                    neighbors_on_fire += 1\n",
    "                if (row-1 >= 0) and (ship.ship_display[row-1][col] == 'F'):\n",
    "                    neighbors_on_fire += 1\n",
    "                if (col+1 <= ship.dim-1) and (ship.ship_display[row][col+1] == 'F'):\n",
    "                    neighbors_on_fire += 1\n",
    "                if (col-1 >= 0) and (ship.ship_display[row][col-1] == 'F'):\n",
    "                    neighbors_on_fire += 1\n",
    "\n",
    "                fire_probs[row][col] = prob_catching_fire(q, neighbors_on_fire) #The probability of each square catching fire at the next time step\n",
    "    \n",
    "    #Keep a list of probabilities that a square will be on fire in two timesteps\n",
    "    #Gets the expected value of number of neighbor cells on fire after one timestep to calculate the odds of a cell being on fire in two timesteps\n",
    "    #See comments below for more details\n",
    "    fire_probs_2 = [[0 for i in range(d)] for j in range(d)]\n",
    "    for row in range(ship.dim):\n",
    "        for col in range(ship.dim):\n",
    "            if (ship.open_ship[row][col] == 'O') and (ship.ship_display[row][col] != 'F'):\n",
    "                new_neighbors_on_fire = 0\n",
    "                if (row+1 <= ship.dim-1):\n",
    "                    if (ship.ship_display[row+1][col] == 'F'):\n",
    "                        new_neighbors_on_fire += 1 #If the neighbor is on fire, you add 1 to the count of neighbors on fire\n",
    "                    if (fire_probs[row+1][col] > 0 and fire_probs[row+1][col] < 1):\n",
    "                        new_neighbors_on_fire += fire_probs[row+1][col] #There is a list of probabilities that a square will light on fire after one time step\n",
    "                        #So you can no longer just add 1 if a square is on fire, because there is an X% chance the square is on fire\n",
    "                        #Thus, find the expected value of the nighbor being on fire between 0 and 1, and add that to the number of neighbors on fire\n",
    "\n",
    "                if (row-1 >= 0):\n",
    "                    if (ship.ship_display[row-1][col] == 'F'):\n",
    "                        new_neighbors_on_fire += 1\n",
    "                    if (fire_probs[row-1][col] > 0 and fire_probs[row-1][col] < 1):\n",
    "                        new_neighbors_on_fire += fire_probs[row-1][col]\n",
    "                if (col+1 <= ship.dim-1):\n",
    "                    if (ship.ship_display[row][col+1] == 'F'):\n",
    "                        new_neighbors_on_fire += 1\n",
    "                    if (fire_probs[row][col+1] > 0 and fire_probs[row][col+1] < 1):\n",
    "                        new_neighbors_on_fire += fire_probs[row][col+1] \n",
    "                if (col-1 >= 0):\n",
    "                    if (ship.ship_display[row][col-1] == 'F'):\n",
    "                        new_neighbors_on_fire += 1\n",
    "                    if (fire_probs[row][col-1] > 0 and fire_probs[row][col-1] < 1):\n",
    "                        new_neighbors_on_fire += fire_probs[row][col-1] \n",
    "\n",
    "                fire_probs_2[row][col] = prob_catching_fire(q, new_neighbors_on_fire) #So now you have a list of probabilities of squares being on fire in two timesteps as well\n",
    "\n",
    "    return fire_probs, fire_probs_2"
   ]
  },
  {
   "cell_type": "code",
   "execution_count": 95,
   "metadata": {},
   "outputs": [],
   "source": [
    "#Largely the same as the code for bot1\n",
    "#Modifications include calculating the probability that a square will catch fire in one and two timesteps (see cell above for specifics)\n",
    "#This is done after every time step, similar to how bot 2 replans the route after every step\n",
    "\n",
    "def bot4(ship, q):\n",
    "\tneighbors = []\n",
    "\tvisited = set()\n",
    "\tprev = dict()\n",
    "\tneighbors.append(ship.start)\n",
    "\tvisited.add(ship.start)\n",
    "\tprev[ship.start] = None\n",
    "\tboard = ship.ship_display\n",
    "\tfound = False\n",
    "\twhile(True):\n",
    "\t\tif not neighbors:\n",
    "\t\t\tbreak\n",
    "\t\trow, col = neighbors.pop(0)\n",
    "\t\tif(ship.ship_display[row][col] == 'G'):\n",
    "\t\t\treturn retrace(prev, (row, col))\n",
    "\t\t\tbreak\n",
    "\n",
    "\t\tp1,p2 = prob_catching_fire_next_timestep(ship, q)\n",
    "\t\t\n",
    "\t\t#Other modification is a probability threshold for the bot.\n",
    "\t\t#So if in one timestep, if the probability that a square will be on fire (calculated in cell above) is less than some percent (here 20), the bot will not go to that square\n",
    "\t\t#In two timesteps, the same metric is used for squares two away from the current fire, but the probability threshold is different (40)\n",
    "\t\t#So the bot does not strictly avoid cells adjacent to or twice removed from the fire. Rather it considers how likely the fire is to spread there and then decides whether or not to move\n",
    "\t\tif(row - 1 >= 0 and ship.ship_display[row-1][col] != '■' and ship.ship_display[row-1][col] != 'F' and (row-1, col) not in visited) and (p1[row-1][col] < 0.2) and (p2[row-1][col] < 0.4):\n",
    "\t\t\tneighbors.append((row-1, col))\n",
    "\t\t\tvisited.add((row-1, col))\n",
    "\t\t\tprev[(row-1, col)] = (row, col)\n",
    "\t\t\n",
    "\t\tif(row + 1 < ship.dim and ship.ship_display[row+1][col] != '■' and ship.ship_display[row+1][col] != 'F' and (row+1, col) not in visited) and (p1[row+1][col] < 0.2) and (p2[row+1][col] < 0.4):\n",
    "\t\t\tneighbors.append((row+1, col))\n",
    "\t\t\tvisited.add((row+1, col))\n",
    "\t\t\tprev[(row+1, col)] = (row, col)\n",
    "\n",
    "\t\tif(col-1 >= 0 and ship.ship_display[row][col-1] != '■' and ship.ship_display[row][col-1] != 'F' and (row, col-1) not in visited) and (p1[row][col-1] < 0.2) and (p2[row][col-1] < 0.4):\n",
    "\t\t\tneighbors.append((row, col-1))\n",
    "\t\t\tvisited.add((row, col-1))\n",
    "\t\t\tprev[(row, col-1)] = (row, col)\n",
    "\n",
    "\t\tif(col + 1 < ship.dim and ship.ship_display[row][col+1] != '■' and ship.ship_display[row][col+1] != 'F' and (row, col+1) not in visited) and (p1[row][col+1] < 0.2) and (p2[row][col+1] < 0.4):\n",
    "\t\t\tneighbors.append((row, col+1))\n",
    "\t\t\tvisited.add((row, col+1))\n",
    "\t\t\tprev[(row, col+1)] = (row, col)\n",
    "\n",
    "def retrace(prev, start):\n",
    "\troute = []\n",
    "\twhile(prev[start] != None):\n",
    "\t\troute.append(start)\n",
    "\t\tstart = prev[start]\n",
    "\troute.reverse()\t\n",
    "\treturn route"
   ]
  },
  {
   "cell_type": "code",
   "execution_count": 92,
   "metadata": {},
   "outputs": [
    {
     "name": "stdout",
     "output_type": "stream",
     "text": [
      "(26, 23)\n",
      "O O ■ O O ■ O ■ O O O O O O ■ O O O O F O O O O O O O ■ O O\n",
      "■ O O O O O O O ■ O ■ ■ O O O O ■ O O ■ ■ O ■ O O ■ ■ O O O\n",
      "O O O O ■ ■ O O O O ■ O O ■ ■ O ■ O ■ O O O O O O O O ■ O ■\n",
      "O O ■ O O O O O ■ O O O ■ ■ ■ O ■ O ■ ■ O ■ O ■ O O O O O O\n",
      "O O ■ ■ O ■ ■ O O ■ ■ ■ ■ ■ O O O O O O O O O O O O O ■ O O\n",
      "O O O O ■ O O ■ O ■ O O ■ O O ■ ■ ■ ■ O ■ O O O ■ O O ■ O O\n",
      "■ O ■ O O O ■ O O O ■ O O O ■ O O O O ■ O O ■ O ■ O O O O O\n",
      "O O O ■ ■ O ■ ■ O ■ ■ ■ ■ O O O ■ O O O O O O O O O ■ ■ O O\n",
      "O ■ O O O O O O O O ■ O O ■ O ■ O O O O O O O O O O O O O O\n",
      "■ O O ■ O ■ O O O O O O O O O O O ■ O ■ ■ O O O O ■ ■ O ■ ■\n",
      "O O O ■ O O O O O O O ■ ■ ■ ■ O ■ ■ O ■ O ■ O ■ ■ O O O O O\n",
      "O ■ O O O ■ ■ ■ ■ O ■ O O O O O O ■ O O O O O O O O O O ■ O\n",
      "O O ■ ■ O O O O O O O O O ■ O O O O O O O ■ O ■ ■ O ■ O O ■\n",
      "■ O ■ ■ ■ O O O O O O ■ O O ■ O ■ O O O O O O ■ O O O O O O\n",
      "O O O O ■ O ■ O O ■ O ■ ■ O O O O ■ ■ ■ O ■ O O O O ■ O O O\n",
      "■ O ■ O ■ O O ■ ■ O O O O ■ O ■ O O O O O ■ O ■ O O O ■ O O\n",
      "O O O O O ■ O ■ O ■ ■ ■ O O O G ■ O ■ ■ O O O O O O O O O O\n",
      "O ■ ■ ■ O O O O O O O O ■ ■ O O O O O O ■ O ■ O O O O ■ O O\n",
      "O O O O ■ ■ O ■ O O O O O O O ■ ■ O ■ O ■ ■ O O ■ O O ■ O ■\n",
      "■ O ■ O O ■ ■ O ■ O O O O ■ ■ O O O O O O O O O ■ O ■ ■ O O\n",
      "■ O ■ O O O O O O O ■ O O O ■ O O O O ■ O O O O O O O O ■ O\n",
      "O O O O ■ O ■ O ■ O ■ ■ O O O O O O O ■ O O ■ O ■ O ■ O O O\n",
      "O ■ O ■ O O O O O O O ■ O ■ O ■ O O O O O ■ O O ■ ■ O O ■ O\n",
      "O O ■ O O ■ O O O O ■ O O O O O O ■ O O O O ■ O O O ■ O O O\n",
      "■ O ■ O ■ O O O O O ■ O ■ ■ O ■ O ■ O O O O O ■ O ■ O ■ O ■\n",
      "O ■ O ■ O ■ O ■ O O O O O O O ■ O ■ O ■ O ■ O O O O O O ■ ■\n",
      "O O O O O O O O ■ ■ O ■ O O O O O ■ O ■ O O ■ B ■ O ■ O O ■\n",
      "■ O ■ O ■ O ■ O O O O O O ■ O ■ O O O O O O O ■ O O O ■ O O\n",
      "O O ■ O O O O O O ■ O ■ ■ O ■ O O O O O ■ O O ■ ■ O ■ ■ ■ O\n",
      "O O O O O O O O O O O O ■ O O O O O O O ■ ■ O O O O O O O O\n"
     ]
    },
    {
     "data": {
      "text/plain": [
       "[(25, 23),\n",
       " (25, 22),\n",
       " (24, 22),\n",
       " (24, 21),\n",
       " (23, 21),\n",
       " (23, 20),\n",
       " (22, 20),\n",
       " (21, 20),\n",
       " (20, 20),\n",
       " (19, 20),\n",
       " (19, 19),\n",
       " (18, 19),\n",
       " (17, 19),\n",
       " (17, 18),\n",
       " (17, 17),\n",
       " (17, 16),\n",
       " (17, 15),\n",
       " (16, 15)]"
      ]
     },
     "execution_count": 92,
     "metadata": {},
     "output_type": "execute_result"
    }
   ],
   "source": [
    "#An example for bot4\n",
    "d = 30\n",
    "q = 0.5\n",
    "ship_4 = ship(d)\n",
    "\n",
    "place_element(ship_4,'F')\n",
    "place_element(ship_4,'B')\n",
    "place_element(ship_4,'G')\n",
    "\n",
    "print(ship_4.start)\n",
    "print_ship(ship_4)\n",
    "bot4(ship_4, q)\n"
   ]
  },
  {
   "cell_type": "code",
   "execution_count": 96,
   "metadata": {},
   "outputs": [
    {
     "data": {
      "text/plain": [
       "7"
      ]
     },
     "execution_count": 96,
     "metadata": {},
     "output_type": "execute_result"
    }
   ],
   "source": [
    "#Running trials for bot4\n",
    "burnCount = 0\n",
    "runs = 10\n",
    "q=0.5\n",
    "for k in range(runs):\n",
    "    shipTest = ship(30)\n",
    "    place_element(shipTest,'F')\n",
    "    place_element(shipTest,'B')\n",
    "    place_element(shipTest,'G')\n",
    "    stop = False\n",
    "    while(not stop): \n",
    "        route = bot4(shipTest, q)\n",
    "        if(not route):\n",
    "            burnCount += 1\n",
    "            break\n",
    "        else:\n",
    "            row, col = route[0]\n",
    "            shipTest.start = (row,col)\n",
    "            if(shipTest.ship_display[row][col] == 'G'):\n",
    "                break\n",
    "            shipTest = spread_fire(1, shipTest, q)\n",
    "runs-burnCount"
   ]
  }
 ],
 "metadata": {
  "kernelspec": {
   "display_name": "base",
   "language": "python",
   "name": "python3"
  },
  "language_info": {
   "codemirror_mode": {
    "name": "ipython",
    "version": 3
   },
   "file_extension": ".py",
   "mimetype": "text/x-python",
   "name": "python",
   "nbconvert_exporter": "python",
   "pygments_lexer": "ipython3",
   "version": "3.11.9"
  }
 },
 "nbformat": 4,
 "nbformat_minor": 2
}
