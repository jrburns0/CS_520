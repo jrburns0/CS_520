{
 "cells": [
  {
   "cell_type": "markdown",
   "metadata": {},
   "source": [
    "# Project 1: Fire Extinguisher\n",
    "\n",
    "James Burns & Remington Katz\n",
    "\n",
    "CS 520"
   ]
  },
  {
   "cell_type": "code",
   "execution_count": 495,
   "metadata": {},
   "outputs": [],
   "source": [
    "import random\n",
    "import copy"
   ]
  },
  {
   "cell_type": "markdown",
   "metadata": {},
   "source": [
    "### 1 The Ship"
   ]
  },
  {
   "cell_type": "code",
   "execution_count": 496,
   "metadata": {},
   "outputs": [],
   "source": [
    "class ship():\n",
    "    def __init__(self, d):\n",
    "        self.dim = d\n",
    "        self.ship_display = [['■' for i in range(d)] for j in range(d)] #■ for blocked i.e. not open\n",
    "\n",
    "        #Choose a square in the interior to open at random\n",
    "        y = random.randint(1, d-2)\n",
    "        x = random.randint(1, d-2)\n",
    "        self.ship_display[y][x] = 'O' #O for open\n",
    "        #The board display can be imagined as Quadrant IV of a cartesian coordinate system, where the origin is in the top left and you read a coordinate as y spaces down and x spaces to the right\n",
    "\n",
    "        #Iteratively do the following... (from assignment)\n",
    "        while True:\n",
    "            one_open_neighbor = list()\n",
    "            for row in range(d):\n",
    "                for col in range(d):\n",
    "                    if self.ship_display[row][col] == '■':\n",
    "                        open_neighbor_count = 0\n",
    "                        if (row+1 <= d-1) and (self.ship_display[row+1][col] == 'O'):\n",
    "                            open_neighbor_count += 1\n",
    "                        if (row-1 >= 0) and (self.ship_display[row-1][col] == 'O'):\n",
    "                            open_neighbor_count += 1\n",
    "                        if (col+1 <= d-1) and (self.ship_display[row][col+1] == 'O'):\n",
    "                            open_neighbor_count += 1\n",
    "                        if (col-1 >= 0) and (self.ship_display[row][col-1] == 'O'):\n",
    "                            open_neighbor_count += 1\n",
    "                        if open_neighbor_count == 1:\n",
    "                            one_open_neighbor.append((row,col))\n",
    "            if len(one_open_neighbor) == 0:\n",
    "                break\n",
    "            random_neighbor = random.sample(one_open_neighbor, 1)[0]\n",
    "            self.ship_display[random_neighbor[0]][random_neighbor[1]] = 'O'\n",
    "        #ship.print_ship(self)\n",
    "        \n",
    "        #Open dead ends; pick random closed neighbor and open it\n",
    "        dead_ends_list = list()\n",
    "        for row in range(d):\n",
    "            for col in range(d):\n",
    "                if self.ship_display[row][col] == 'O':\n",
    "                    open_neighbor_count = 0\n",
    "                    if (row+1 <= d-1) and (self.ship_display[row+1][col] == 'O'):\n",
    "                        open_neighbor_count += 1\n",
    "                    if (row-1 >= 0) and (self.ship_display[row-1][col] == 'O'):\n",
    "                        open_neighbor_count += 1\n",
    "                    if (col+1 <= d-1) and (self.ship_display[row][col+1] == 'O'):\n",
    "                        open_neighbor_count += 1\n",
    "                    if (col-1 >= 0) and (self.ship_display[row][col-1] == 'O'):\n",
    "                        open_neighbor_count += 1\n",
    "                    if open_neighbor_count == 1:\n",
    "                        dead_ends_list.append((row,col))\n",
    "        half = len(dead_ends_list)//2\n",
    "        dead_ends = random.sample(dead_ends_list, half)\n",
    "        #print(dead_ends_list)\n",
    "        #print(dead_ends)\n",
    "        for dead_end in dead_ends:\n",
    "            dead_end_blocked_neighbor = list()\n",
    "            if (dead_end[0]+1 <= d-1) and (self.ship_display[dead_end[0]+1][dead_end[1]] == '■'):\n",
    "                dead_end_blocked_neighbor.append((dead_end[0]+1, dead_end[1]))\n",
    "            if (dead_end[0]-1 >= 0) and (self.ship_display[dead_end[0]-1][dead_end[1]] == '■'):\n",
    "                dead_end_blocked_neighbor.append((dead_end[0]-1, dead_end[1]))\n",
    "            if (dead_end[1]+1 <= d-1) and (self.ship_display[dead_end[0]][dead_end[1]+1] == '■'):\n",
    "                dead_end_blocked_neighbor.append((dead_end[0], dead_end[1]+1))\n",
    "            if (dead_end[1]-1 >= 0) and (self.ship_display[dead_end[0]][dead_end[1]-1] == '■'):\n",
    "                dead_end_blocked_neighbor.append((dead_end[0], dead_end[1]-1))\n",
    "            #print(dead_end_blocked_neighbor)\n",
    "            if dead_end_blocked_neighbor != []: #Make sure block neighbor was not previosuly removed\n",
    "                random_blocked_neighbor = random.sample(dead_end_blocked_neighbor, 1)[0]\n",
    "                self.ship_display[random_blocked_neighbor[0]][random_blocked_neighbor[1]] = 'O'\n",
    "        \n",
    "        self.open_ship = copy.deepcopy(self.ship_display) #Keep a copy of the original ship to see which cells are opened/blocked\n",
    "    \n",
    "    def print_open_ship(self):\n",
    "        for row in self.open_ship:\n",
    "            formatted_row = [\"{:1}\".format(x) for x in row]\n",
    "            print(\" \".join(formatted_row))\n",
    "\n"
   ]
  },
  {
   "cell_type": "code",
   "execution_count": 497,
   "metadata": {},
   "outputs": [],
   "source": [
    "def print_ship(ship):\n",
    "    for row in ship.ship_display:\n",
    "        formatted_row = [\"{:1}\".format(x) for x in row]\n",
    "        print(\" \".join(formatted_row))"
   ]
  },
  {
   "cell_type": "code",
   "execution_count": 498,
   "metadata": {},
   "outputs": [
    {
     "name": "stdout",
     "output_type": "stream",
     "text": [
      "O O O O O ■ O O O O\n",
      "O O O ■ O O O O O ■\n",
      "■ O O ■ O ■ O O O O\n",
      "O O ■ O ■ ■ O ■ O O\n",
      "O O O O ■ O O ■ ■ O\n",
      "■ O O ■ O O O O ■ O\n",
      "O ■ O ■ O O O O O O\n",
      "O O O O O ■ O ■ O O\n",
      "O O ■ O ■ O O O O O\n",
      "O O O O O O ■ ■ O ■\n",
      "\n",
      "O O O O O ■ O O O O\n",
      "O O O ■ O O O O O ■\n",
      "■ O O ■ O ■ O O O O\n",
      "O O ■ O ■ ■ O ■ O O\n",
      "O O O O ■ O O ■ ■ O\n",
      "■ O O ■ O O O O ■ O\n",
      "O ■ O ■ O O O O O O\n",
      "O O O O O ■ O ■ O O\n",
      "O O ■ O ■ O O O O O\n",
      "O O O O O O ■ ■ O ■\n"
     ]
    }
   ],
   "source": [
    "ship_1 = ship(10)\n",
    "ship_1.print_open_ship()\n",
    "print()\n",
    "print_ship(ship_1)"
   ]
  },
  {
   "cell_type": "markdown",
   "metadata": {},
   "source": [
    "### 3 The Fire"
   ]
  },
  {
   "cell_type": "code",
   "execution_count": 499,
   "metadata": {},
   "outputs": [],
   "source": [
    "def prob_catching_fire(q, K):\n",
    "    return 1 - (1-q)**K\n",
    "\n",
    "def place_fire(ship):\n",
    "    random_cell_state = None\n",
    "    while random_cell_state != 'O':\n",
    "        y = random.randint(0, ship.dim-1)\n",
    "        x = random.randint(0, ship.dim-1)\n",
    "        if ship.open_ship[y][x] == 'O':\n",
    "            ship.ship_display[y][x] = 'F' #F for fire\n",
    "            random_cell_state = 'O'\n",
    "    print_ship(ship)\n",
    "    return ship"
   ]
  },
  {
   "cell_type": "code",
   "execution_count": 500,
   "metadata": {},
   "outputs": [
    {
     "name": "stdout",
     "output_type": "stream",
     "text": [
      "O O O O O ■ O O O O\n",
      "O O O ■ O O O O O ■\n",
      "■ O O ■ O ■ O O O O\n",
      "O O ■ O ■ ■ O ■ O O\n",
      "O O O O ■ O O ■ ■ O\n",
      "■ O O ■ O O O O ■ O\n",
      "O ■ O ■ O F O O O O\n",
      "O O O O O ■ O ■ O O\n",
      "O O ■ O ■ O O O O O\n",
      "O O O O O O ■ ■ O ■\n"
     ]
    }
   ],
   "source": [
    "ship_1 = place_fire(ship_1)"
   ]
  },
  {
   "cell_type": "code",
   "execution_count": 501,
   "metadata": {},
   "outputs": [],
   "source": [
    "def spread_fire(timestep, ship, q):\n",
    "    for t in range(timestep):\n",
    "        ship_copy = copy.deepcopy(ship)\n",
    "        for row in range(ship.dim):\n",
    "            for col in range(ship.dim):\n",
    "                if (ship.open_ship[row][col] == 'O') and (ship.ship_display[row][col] != 'F'):\n",
    "                    neighbors_on_fire = 0\n",
    "                    if (row+1 <= ship.dim-1) and (ship.ship_display[row+1][col] == 'F'):\n",
    "                        neighbors_on_fire += 1\n",
    "                    if (row-1 >= 0) and (ship.ship_display[row-1][col] == 'F'):\n",
    "                        neighbors_on_fire += 1\n",
    "                    if (col+1 <= ship.dim-1) and (ship.ship_display[row][col+1] == 'F'):\n",
    "                        neighbors_on_fire += 1\n",
    "                    if (col-1 >= 0) and (ship.ship_display[row][col-1] == 'F'):\n",
    "                        neighbors_on_fire += 1\n",
    "                    if random.uniform(0, 1) < prob_catching_fire(q, neighbors_on_fire):\n",
    "                        ship_copy.ship_display[row][col] = 'F'\n",
    "        ship = ship_copy\n",
    "        # print_ship(ship)\n",
    "        # print()\n",
    "\n",
    "    return ship"
   ]
  },
  {
   "cell_type": "code",
   "execution_count": 502,
   "metadata": {},
   "outputs": [
    {
     "name": "stdout",
     "output_type": "stream",
     "text": [
      "O O F F F ■ F F F F\n",
      "O F F ■ F F F F F ■\n",
      "■ F F ■ O ■ F F F F\n",
      "F F ■ F ■ ■ F ■ F F\n",
      "F F F F ■ F F ■ ■ F\n",
      "■ F F ■ F F F F ■ F\n",
      "F ■ F ■ F F F F F F\n",
      "F F F F F ■ F ■ F F\n",
      "F F ■ F ■ F F F F F\n",
      "F F F F F F ■ ■ F ■\n"
     ]
    }
   ],
   "source": [
    "ship_1 = spread_fire(10, ship_1, 0.5)\n",
    "print_ship(ship_1)"
   ]
  }
 ],
 "metadata": {
  "kernelspec": {
   "display_name": "Python 3",
   "language": "python",
   "name": "python3"
  },
  "language_info": {
   "codemirror_mode": {
    "name": "ipython",
    "version": 3
   },
   "file_extension": ".py",
   "mimetype": "text/x-python",
   "name": "python",
   "nbconvert_exporter": "python",
   "pygments_lexer": "ipython3",
   "version": "3.11.9"
  }
 },
 "nbformat": 4,
 "nbformat_minor": 2
}
